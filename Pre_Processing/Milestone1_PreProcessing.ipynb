{
 "cells": [
  {
   "cell_type": "code",
   "execution_count": 1,
   "metadata": {},
   "outputs": [],
   "source": [
    "import numpy as np \n",
    "import pandas as pd\n",
    "import matplotlib.pyplot as plt "
   ]
  },
  {
   "attachments": {},
   "cell_type": "markdown",
   "metadata": {},
   "source": [
    "## Load dataset"
   ]
  },
  {
   "cell_type": "code",
   "execution_count": 2,
   "metadata": {},
   "outputs": [
    {
     "name": "stdout",
     "output_type": "stream",
     "text": [
      "<class 'pandas.core.frame.DataFrame'>\n",
      "RangeIndex: 50730 entries, 0 to 50729\n",
      "Data columns (total 12 columns):\n",
      " #   Column                       Non-Null Count  Dtype \n",
      "---  ------                       --------------  ----- \n",
      " 0   Activity Period              50730 non-null  int64 \n",
      " 1   Operating Airline            50730 non-null  object\n",
      " 2   Operating Airline IATA Code  50427 non-null  object\n",
      " 3   Published Airline            50730 non-null  object\n",
      " 4   Published Airline IATA Code  50427 non-null  object\n",
      " 5   GEO Summary                  50730 non-null  object\n",
      " 6   GEO Region                   50730 non-null  object\n",
      " 7   Activity Type Code           50730 non-null  object\n",
      " 8   Price Category Code          50730 non-null  object\n",
      " 9   Terminal                     50730 non-null  object\n",
      " 10  Boarding Area                50730 non-null  object\n",
      " 11  Passenger Count              50730 non-null  int64 \n",
      "dtypes: int64(2), object(10)\n",
      "memory usage: 4.6+ MB\n"
     ]
    }
   ],
   "source": [
    "#load dataset\n",
    "df = pd.read_csv(\"C:/Users/sarad/OneDrive/Bureau/COURS/_MA2/DataViz/Project/Air_Traffic_Passenger_Statistics.csv\")\n",
    "df.info()"
   ]
  },
  {
   "attachments": {},
   "cell_type": "markdown",
   "metadata": {},
   "source": [
    "## Rename columns\n"
   ]
  },
  {
   "cell_type": "code",
   "execution_count": 3,
   "metadata": {},
   "outputs": [],
   "source": [
    "df.rename(columns = {'Activity Period':'Activity_Period', 'Operating Airline':'Operating_Airline',\"Operating Airline IATA Code\":\"Operating_Cod\",\n",
    "                     \"Published Airline\":\"Published_Airline\",\n",
    "                     \"Published Airline IATA Code\":\"Published_Airline_IATA_Code\",\n",
    "                     \"GEO Summary\":\"GEO_Summary\",\"GEO Region\":\"GEO_Region\",\"Activity Type Code\":\"Activity_Type_Code\",\n",
    "                    \"Price Category Code\":\"Price_Category_Code\",\"Boarding Area\":\"Boarding_Area\",\"Passenger Count\":\"Passenger_Count\",\n",
    "                     \"Adjusted Activity Type Code\":\"Adjusted_Activity_Type_Code\",\"Adjusted Passenger Count\":\"Adjusted_Passenger_Count\"}, inplace = True)"
   ]
  },
  {
   "cell_type": "code",
   "execution_count": 5,
   "metadata": {},
   "outputs": [
    {
     "data": {
      "text/html": [
       "<div>\n",
       "<style scoped>\n",
       "    .dataframe tbody tr th:only-of-type {\n",
       "        vertical-align: middle;\n",
       "    }\n",
       "\n",
       "    .dataframe tbody tr th {\n",
       "        vertical-align: top;\n",
       "    }\n",
       "\n",
       "    .dataframe thead th {\n",
       "        text-align: right;\n",
       "    }\n",
       "</style>\n",
       "<table border=\"1\" class=\"dataframe\">\n",
       "  <thead>\n",
       "    <tr style=\"text-align: right;\">\n",
       "      <th></th>\n",
       "      <th>Activity_Period</th>\n",
       "      <th>Operating_Airline</th>\n",
       "      <th>Operating_Cod</th>\n",
       "      <th>Published_Airline</th>\n",
       "      <th>Published_Airline_IATA_Code</th>\n",
       "      <th>GEO_Summary</th>\n",
       "      <th>GEO_Region</th>\n",
       "      <th>Activity_Type_Code</th>\n",
       "      <th>Price_Category_Code</th>\n",
       "      <th>Terminal</th>\n",
       "      <th>Boarding_Area</th>\n",
       "      <th>Passenger_Count</th>\n",
       "    </tr>\n",
       "  </thead>\n",
       "  <tbody>\n",
       "    <tr>\n",
       "      <th>0</th>\n",
       "      <td>200507</td>\n",
       "      <td>ATA Airlines</td>\n",
       "      <td>TZ</td>\n",
       "      <td>ATA Airlines</td>\n",
       "      <td>TZ</td>\n",
       "      <td>Domestic</td>\n",
       "      <td>US</td>\n",
       "      <td>Deplaned</td>\n",
       "      <td>Low Fare</td>\n",
       "      <td>Terminal 1</td>\n",
       "      <td>B</td>\n",
       "      <td>27271</td>\n",
       "    </tr>\n",
       "    <tr>\n",
       "      <th>1</th>\n",
       "      <td>200507</td>\n",
       "      <td>ATA Airlines</td>\n",
       "      <td>TZ</td>\n",
       "      <td>ATA Airlines</td>\n",
       "      <td>TZ</td>\n",
       "      <td>Domestic</td>\n",
       "      <td>US</td>\n",
       "      <td>Enplaned</td>\n",
       "      <td>Low Fare</td>\n",
       "      <td>Terminal 1</td>\n",
       "      <td>B</td>\n",
       "      <td>29131</td>\n",
       "    </tr>\n",
       "    <tr>\n",
       "      <th>2</th>\n",
       "      <td>200507</td>\n",
       "      <td>ATA Airlines</td>\n",
       "      <td>TZ</td>\n",
       "      <td>ATA Airlines</td>\n",
       "      <td>TZ</td>\n",
       "      <td>Domestic</td>\n",
       "      <td>US</td>\n",
       "      <td>Thru / Transit</td>\n",
       "      <td>Low Fare</td>\n",
       "      <td>Terminal 1</td>\n",
       "      <td>B</td>\n",
       "      <td>5415</td>\n",
       "    </tr>\n",
       "    <tr>\n",
       "      <th>3</th>\n",
       "      <td>200507</td>\n",
       "      <td>Air Canada</td>\n",
       "      <td>AC</td>\n",
       "      <td>Air Canada</td>\n",
       "      <td>AC</td>\n",
       "      <td>International</td>\n",
       "      <td>Canada</td>\n",
       "      <td>Deplaned</td>\n",
       "      <td>Other</td>\n",
       "      <td>Terminal 1</td>\n",
       "      <td>B</td>\n",
       "      <td>35156</td>\n",
       "    </tr>\n",
       "    <tr>\n",
       "      <th>4</th>\n",
       "      <td>200507</td>\n",
       "      <td>Air Canada</td>\n",
       "      <td>AC</td>\n",
       "      <td>Air Canada</td>\n",
       "      <td>AC</td>\n",
       "      <td>International</td>\n",
       "      <td>Canada</td>\n",
       "      <td>Enplaned</td>\n",
       "      <td>Other</td>\n",
       "      <td>Terminal 1</td>\n",
       "      <td>B</td>\n",
       "      <td>34090</td>\n",
       "    </tr>\n",
       "  </tbody>\n",
       "</table>\n",
       "</div>"
      ],
      "text/plain": [
       "   Activity_Period Operating_Airline Operating_Cod Published_Airline  \\\n",
       "0           200507      ATA Airlines            TZ      ATA Airlines   \n",
       "1           200507      ATA Airlines            TZ      ATA Airlines   \n",
       "2           200507      ATA Airlines            TZ      ATA Airlines   \n",
       "3           200507        Air Canada            AC        Air Canada   \n",
       "4           200507        Air Canada            AC        Air Canada   \n",
       "\n",
       "  Published_Airline_IATA_Code    GEO_Summary GEO_Region Activity_Type_Code  \\\n",
       "0                          TZ       Domestic         US           Deplaned   \n",
       "1                          TZ       Domestic         US           Enplaned   \n",
       "2                          TZ       Domestic         US     Thru / Transit   \n",
       "3                          AC  International     Canada           Deplaned   \n",
       "4                          AC  International     Canada           Enplaned   \n",
       "\n",
       "  Price_Category_Code    Terminal Boarding_Area  Passenger_Count  \n",
       "0            Low Fare  Terminal 1             B            27271  \n",
       "1            Low Fare  Terminal 1             B            29131  \n",
       "2            Low Fare  Terminal 1             B             5415  \n",
       "3               Other  Terminal 1             B            35156  \n",
       "4               Other  Terminal 1             B            34090  "
      ]
     },
     "execution_count": 5,
     "metadata": {},
     "output_type": "execute_result"
    }
   ],
   "source": [
    "df.head()"
   ]
  },
  {
   "attachments": {},
   "cell_type": "markdown",
   "metadata": {},
   "source": [
    "## Split Activity Period into two columns: Year and Month"
   ]
  },
  {
   "cell_type": "code",
   "execution_count": 4,
   "metadata": {},
   "outputs": [],
   "source": [
    "df['Activity_Period'] = df['Activity_Period'].astype(str)\n",
    "\n",
    "# Split the date column into year and month columns\n",
    "df['Year'] = df['Activity_Period'].str[:4]\n",
    "df['Month'] = df['Activity_Period'].str[4:]\n",
    "df.drop('Activity_Period', axis=1, inplace=True)\n",
    "\n"
   ]
  },
  {
   "attachments": {},
   "cell_type": "markdown",
   "metadata": {},
   "source": [
    "## Domestic VS International flights"
   ]
  },
  {
   "cell_type": "code",
   "execution_count": 6,
   "metadata": {},
   "outputs": [
    {
     "data": {
      "text/plain": [
       "([<matplotlib.patches.Wedge at 0x14e25953e80>,\n",
       "  <matplotlib.patches.Wedge at 0x14e2599d3f0>],\n",
       " [Text(0.49175721157246965, 0.9839587617712795, 'Domestic Flights'),\n",
       "  Text(-0.4917571194475999, -0.983958807812908, 'International Flights')],\n",
       " [Text(0.26823120631225617, 0.5367047791479705, '35.2%'),\n",
       "  Text(-0.26823115606232717, -0.5367048042615861, '64.8%')])"
      ]
     },
     "execution_count": 6,
     "metadata": {},
     "output_type": "execute_result"
    },
    {
     "data": {
      "image/png": "[encoded data removed]",
      "text/plain": [
       "<Figure size 432x288 with 1 Axes>"
      ]
     },
     "metadata": {},
     "output_type": "display_data"
    }
   ],
   "source": [
    "#plot number of domestic flights vs international flights\n",
    "sizes = [df['GEO_Summary'].str.count('Domestic').sum(), df['GEO_Summary'].str.count('International').sum()]\n",
    "labels = [\"Domestic Flights\", \"International Flights\"]\n",
    "fig, ax = plt.subplots()\n",
    "ax.pie(sizes, labels=labels, autopct='%1.1f%%', colors=[\"blue\", \"magenta\"])"
   ]
  },
  {
   "attachments": {},
   "cell_type": "markdown",
   "metadata": {},
   "source": [
    "## Passengers per year"
   ]
  },
  {
   "cell_type": "code",
   "execution_count": 7,
   "metadata": {},
   "outputs": [
    {
     "name": "stdout",
     "output_type": "stream",
     "text": [
      "Year\n",
      "2005     34444066\n",
      "2006     66665940\n",
      "2007     71108164\n",
      "2008     74469356\n",
      "2009     74677884\n",
      "2010     78507998\n",
      "2011     81855572\n",
      "2012     88799770\n",
      "2013     89891520\n",
      "2014     94229262\n",
      "2015    100115774\n",
      "2016    106206896\n",
      "2017    111647424\n",
      "2018    115493746\n",
      "2019    114837148\n",
      "2020     32837426\n",
      "2021     48669106\n",
      "2022     60832332\n",
      "Name: Passenger_Count, dtype: int64\n"
     ]
    }
   ],
   "source": [
    "#Number of passengers per year\n",
    "passengers_per_year = df.groupby('Year')['Passenger_Count'].sum()\n",
    "print(passengers_per_year)"
   ]
  },
  {
   "cell_type": "code",
   "execution_count": 8,
   "metadata": {},
   "outputs": [
    {
     "data": {
      "image/png": "[encoded data removed]",
      "text/plain": [
       "<Figure size 432x288 with 1 Axes>"
      ]
     },
     "metadata": {
      "needs_background": "light"
     },
     "output_type": "display_data"
    }
   ],
   "source": [
    "passengers_per_year.plot(kind='bar', color='blue')\n",
    "plt.xlabel('Year')\n",
    "plt.ylabel('Number of Passengers')\n",
    "plt.title('Number of Passengers per Year')\n",
    "plt.show()"
   ]
  },
  {
   "attachments": {},
   "cell_type": "markdown",
   "metadata": {},
   "source": [
    "## Operating airlines"
   ]
  },
  {
   "cell_type": "code",
   "execution_count": 10,
   "metadata": {},
   "outputs": [
    {
     "name": "stdout",
     "output_type": "stream",
     "text": [
      "United Airlines                     5759\n",
      "United Airlines - Pre 07/01/2013    4308\n",
      "SkyWest Airlines                    3371\n",
      "Alaska Airlines                     2190\n",
      "Delta Air Lines                     1203\n",
      "                                    ... \n",
      "Trego Dugan Aviation                   4\n",
      "Xtra Airways                           4\n",
      "Evergreen International Airlines       4\n",
      "Boeing Company                         2\n",
      "Samsic Airport America, LLC            1\n",
      "Name: Operating_Airline, Length: 102, dtype: int64\n"
     ]
    }
   ],
   "source": [
    "airline_counts = df['Operating_Airline'].value_counts()\n",
    "print(airline_counts)"
   ]
  },
  {
   "attachments": {},
   "cell_type": "markdown",
   "metadata": {},
   "source": [
    "## Maximum number of passengers recorded"
   ]
  },
  {
   "cell_type": "code",
   "execution_count": 15,
   "metadata": {},
   "outputs": [
    {
     "name": "stdout",
     "output_type": "stream",
     "text": [
      "Maximum passenger count: 659837\n",
      "Airline(s) with maximum passenger count: 11345    United Airlines\n",
      "36298    United Airlines\n",
      "Name: Operating_Airline, dtype: object\n",
      "Year: 11345    2013\n",
      "36298    2013\n",
      "Name: Year, dtype: object\n",
      "Month: 11345    08\n",
      "36298    08\n",
      "Name: Month, dtype: object\n"
     ]
    }
   ],
   "source": [
    "max_passenger_counts = df['Passenger_Count'].max()\n",
    "\n",
    "# Print the maximum value\n",
    "print(\"Maximum passenger count:\", max_passenger_counts)\n",
    "\n",
    "max_passenger_counts_rows = df[df['Passenger_Count'] == max_passenger_counts]\n",
    "\n",
    "# Get the airline(s) from the row(s) with the maximum value\n",
    "airlines_with_max_passenger_counts = max_passenger_counts_rows['Operating_Airline']\n",
    "year_of_max_passenger_counts = max_passenger_counts_rows['Year']\n",
    "month_of_max_passenger_counts = max_passenger_counts_rows['Month']\n",
    "\n",
    "# Print the result\n",
    "print(\"Airline(s) with maximum passenger count:\", airlines_with_max_passenger_counts)\n",
    "print(\"Year:\", year_of_max_passenger_counts)\n",
    "print(\"Month:\", month_of_max_passenger_counts)"
   ]
  },
  {
   "attachments": {},
   "cell_type": "markdown",
   "metadata": {},
   "source": [
    "## Enplaned vs Deplaned vs Transit flights"
   ]
  },
  {
   "cell_type": "code",
   "execution_count": 29,
   "metadata": {},
   "outputs": [
    {
     "name": "stdout",
     "output_type": "stream",
     "text": [
      "Number of enplaned flights:  24266\n",
      "Number of deplaned flights:  23963\n",
      "Number of transit flights:  2501\n"
     ]
    },
    {
     "data": {
      "text/plain": [
       "([<matplotlib.patches.Wedge at 0x14e25a84cd0>,\n",
       "  <matplotlib.patches.Wedge at 0x14e25a85360>,\n",
       "  <matplotlib.patches.Wedge at 0x14e25a859f0>],\n",
       " [Text(0.0748065761450045, 1.097453405008824, 'Enplaned'),\n",
       "  Text(-0.2432072025460329, -1.072776890424907, 'Deplaned'),\n",
       "  Text(1.0868328749408969, -0.16968883860674316, 'Transit')],\n",
       " [Text(0.040803586988184266, 0.5986109481866312, '47.8%'),\n",
       "  Text(-0.13265847411601792, -0.5851510311408584, '47.2%'),\n",
       "  Text(0.5928179317859437, -0.0925575483309508, '4.9%')])"
      ]
     },
     "execution_count": 29,
     "metadata": {},
     "output_type": "execute_result"
    },
    {
     "data": {
      "image/png": "[encoded data removed]",
      "text/plain": [
       "<Figure size 432x288 with 1 Axes>"
      ]
     },
     "metadata": {},
     "output_type": "display_data"
    }
   ],
   "source": [
    "enplaned_flights = df['Activity_Type_Code'].str.count('Enplaned').sum()\n",
    "print(\"Number of enplaned flights: \", enplaned_flights)\n",
    "deplaned_flights = df['Activity_Type_Code'].str.count('Deplaned').sum()\n",
    "print(\"Number of deplaned flights: \", deplaned_flights)\n",
    "transit_flights = df['Activity_Type_Code'].str.count('Thru / Transit').sum()\n",
    "print(\"Number of transit flights: \", transit_flights)\n",
    "list = [enplaned_flights, deplaned_flights, transit_flights]\n",
    "labels = [\"Enplaned\", \"Deplaned\", \"Transit\"]\n",
    "fig, ax = plt.subplots()\n",
    "ax.pie(list, labels=labels, autopct='%1.1f%%', colors=[\"blue\", \"red\", \"green\"])\n"
   ]
  }
 ],
 "metadata": {
  "kernelspec": {
   "display_name": "Python 3",
   "language": "python",
   "name": "python3"
  },
  "language_info": {
   "codemirror_mode": {
    "name": "ipython",
    "version": 3
   },
   "file_extension": ".py",
   "mimetype": "text/x-python",
   "name": "python",
   "nbconvert_exporter": "python",
   "pygments_lexer": "ipython3",
   "version": "3.10.0"
  },
  "orig_nbformat": 4
 },
 "nbformat": 4,
 "nbformat_minor": 2
}
